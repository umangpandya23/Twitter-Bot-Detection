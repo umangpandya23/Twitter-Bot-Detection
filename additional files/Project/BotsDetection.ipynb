{
 "cells": [
  {
   "cell_type": "code",
   "execution_count": 5,
   "metadata": {
    "collapsed": false
   },
   "outputs": [
    {
     "data": {
      "text/plain": [
       "''"
      ]
     },
     "execution_count": 5,
     "metadata": {},
     "output_type": "execute_result"
    }
   ],
   "source": [
    "'''\n",
    "#Python3: BotsDataDownload.py\n",
    "@authors: jubinsoni\n",
    "#Submission for DataScience Incubator: Project\n",
    "Dependencies: Tweepy, Pandas, Numpy\n",
    "#Description: Using Twitter REST API data is downloaded, bots and nonbots are labeled and results saved into a csv.\n",
    "'''\n",
    "\"\""
   ]
  },
  {
   "cell_type": "markdown",
   "metadata": {},
   "source": [
    "### First I have collected the data using Twitter API"
   ]
  },
  {
   "cell_type": "code",
   "execution_count": null,
   "metadata": {
    "collapsed": true
   },
   "outputs": [],
   "source": [
    "import tweepy\n",
    "import os,sys, csv, time\n",
    "import pandas as pd\n",
    "import numpy as np\n",
    "\n",
    "def createOutput(data, isbot):\n",
    "    header = ['id', 'id_str', 'screen_name', 'location', 'description', 'url',\n",
    "                'followers_count', 'friends_count', 'listed_count', 'created_at',\n",
    "                'favourites_count', 'verified', 'statuses_count', 'lang', 'status',\n",
    "                'default_profile','default_profile_image', 'has_extended_profile',\n",
    "                'name']\n",
    "    d = {}\n",
    "    for key in header:\n",
    "        if key not in data.keys():\n",
    "            d[key] = \"\"\n",
    "        elif key == 'status':\n",
    "            d[key] = str(data[key])\n",
    "        else:\n",
    "            d[key] = data[key]\n",
    "\n",
    "    df = pd.DataFrame(d, columns= header, index=np.arange(1))\n",
    "    df['bot'] = isbot\n",
    "    return df\n",
    "\n",
    "def get_bots_list():\n",
    "    bots_list = []\n",
    "    for bots in tweepy.Cursor(api.list_members, '01101O10', 'bot-list').items():\n",
    "        bots_list.append (bots._json['screen_name'])\n",
    "    return bots_list[:50]\n",
    "\n",
    "def real_users_list():\n",
    "    real_users = []\n",
    "    for users in tweepy.Cursor(api.list_members, 'Scobleizer', 'most-influential-in-tech').items():\n",
    "        real_users.append (users._json['screen_name'])\n",
    "    return real_users[:50]\n",
    "\n",
    "def get_user_list():\n",
    "    user_list = get_bots_list() + real_users_list()\n",
    "    filename = 'bots_nonbots_output.csv'\n",
    "    return user_list, filename\n",
    "    print (\"Gathering real-time data Using Twitter API.\")"
   ]
  },
  {
   "cell_type": "code",
   "execution_count": null,
   "metadata": {
    "collapsed": true
   },
   "outputs": [],
   "source": [
    "start=time.time()\n",
    "#Twitter credentials\n",
    "consumer_key='25SjEQNdimGLs9BNcAfbJW3dA'\n",
    "consumer_secret='RTt7e2m4iWwbXUUHyH4Vn7YRm6jpoQmm4m8RhedqohQBNbyYLU'\n",
    "access_key = '755246834826838016-GPchEozsoRFTm10LbSbUKyG2NlIoLOR'\n",
    "access_secret = 'x0LXflU8vJFojsXfgumxLNlh8TEMUCUpqkK5fuH98UY6o'\n",
    "\n",
    "auth = tweepy.OAuthHandler(consumer_key, consumer_secret)\n",
    "auth.set_access_token(access_key,access_secret)\n",
    "api = tweepy.API(auth)\n",
    "\n",
    "user_list, filename = get_user_list()\n",
    "\n",
    "df = pd.DataFrame()\n",
    "for i,users in enumerate(user_list, start=1):\n",
    "    isbot=0\n",
    "    if(i<=50):\n",
    "        isbot=1\n",
    "    data = api.get_user(users)._json\n",
    "    data_df1 = createOutput(data, isbot)\n",
    "    df = pd.concat([data_df1, df], axis= 0, ignore_index = True)\n",
    "\n",
    "df.to_csv(filename, encoding='utf-8')\n",
    "print (\"All records are saved to csv. \\nDuration: \"+str(time.time()-start)+\" seconds.\")"
   ]
  },
  {
   "cell_type": "markdown",
   "metadata": {},
   "source": [
    "### Analyzing important features (Pre-processing)"
   ]
  },
  {
   "cell_type": "code",
   "execution_count": 20,
   "metadata": {
    "collapsed": true
   },
   "outputs": [],
   "source": [
    "import os,sys, csv, time\n",
    "import pandas as pd\n",
    "import numpy as np\n",
    "\n",
    "#Due to data download limit I already had downloaded the data at below location\n",
    "\n",
    "filepath = 'https://raw.githubusercontent.com/jubins/ML-TwitterBotDetection/master/Project/data/'\n",
    "bots = pd.read_csv(filepath+'bots_data.csv')\n",
    "nonbots = pd.read_csv(filepath+'nonbots_data.csv')"
   ]
  },
  {
   "cell_type": "markdown",
   "metadata": {},
   "source": [
    "#### Plot 1: Followers vs Following Count"
   ]
  },
  {
   "cell_type": "code",
   "execution_count": 78,
   "metadata": {
    "collapsed": false
   },
   "outputs": [
    {
     "data": {
      "image/png": "[encoded data removed]",
      "text/plain": [
       "<matplotlib.figure.Figure at 0x18202baeb70>"
      ]
     },
     "metadata": {},
     "output_type": "display_data"
    }
   ],
   "source": [
    "import seaborn as sns\n",
    "import matplotlib.pyplot as plt\n",
    "%matplotlib inline\n",
    "\n",
    "plt.figure(figsize=(8,6))\n",
    "plt.subplot(2, 1, 1)\n",
    "bots_followers = bots.followers_count/100000\n",
    "bots_friends = bots.friends_count/1000000\n",
    "plt.scatter(bots_followers, bots_friends, color='red')\n",
    "plt.xlabel(\"Bots Followers\")\n",
    "plt.ylabel(\"Bots Following\")\n",
    "plt.title(\"Bots Followers vs Following count\")\n",
    "\n",
    "plt.subplot(2, 1, 2)\n",
    "nonbots_followers = nonbots.followers_count/1000000\n",
    "nonbots_friends = nonbots.friends_count/1000000\n",
    "plt.scatter(nonbots_followers, nonbots_friends, color='green')\n",
    "plt.xlabel(\"NonBots Followers\")\n",
    "plt.ylabel(\"NonBots Following\")\n",
    "plt.title(\"NonBots Followers vs Following count\")\n",
    "\n",
    "plt.tight_layout()\n",
    "plt.show()"
   ]
  },
  {
   "cell_type": "markdown",
   "metadata": {},
   "source": [
    "#### Plot 2: Frequecy of appearance of Bots vs NonBots in ScreenName"
   ]
  },
  {
   "cell_type": "code",
   "execution_count": 108,
   "metadata": {
    "collapsed": false
   },
   "outputs": [
    {
     "data": {
      "text/plain": [
       "<matplotlib.text.Text at 0x1820ab1f198>"
      ]
     },
     "execution_count": 108,
     "metadata": {},
     "output_type": "execute_result"
    },
    {
     "data": {
      "image/png": "[encoded data removed]",
      "text/plain": [
       "<matplotlib.figure.Figure at 0x1820c3ae908>"
      ]
     },
     "metadata": {},
     "output_type": "display_data"
    }
   ],
   "source": [
    "x = bots[(bots.screen_name.str.contains(\"bot\", case=False)==True)].screen_name_binary[:150]\n",
    "y = nonbots[(nonbots.screen_name.str.contains(\"bot\", case=False)==False)].screen_name_binary[:150]\n",
    "\n",
    "plt.figure(figsize=(12,4))\n",
    "plt.plot(x, color='red', label='bots')\n",
    "plt.plot(y, color='darkblue', label='nonbots')\n",
    "plt.xlabel('Frequency of bots')\n",
    "plt.xlabel('Number appearance')\n",
    "plt.legend(loc='upper right')\n",
    "plt.title('Frequency of apperance Bots vs NonBots')"
   ]
  },
  {
   "cell_type": "code",
   "execution_count": 91,
   "metadata": {
    "collapsed": false
   },
   "outputs": [
    {
     "name": "stdout",
     "output_type": "stream",
     "text": [
      "Bots shape: (1056, 24)\n",
      "Nonbots shape: (1176, 24)\n"
     ]
    }
   ],
   "source": [
    "def vectorize_bots(bots, condition):\n",
    "    bots['screen_name_binary'] = (bots.screen_name.str.contains(\"bot\", case=False)==True)\n",
    "    bots['description_binary'] = (bots.description.str.contains(\"bot\", case=False)==True)\n",
    "    bots['location_binary'] = (bots.location.isnull())\n",
    "    bots['verified_binary'] = (bots.verified==False)\n",
    "    return bots\n",
    "\n",
    "def vectorize_nonbots(nonbots, condition):\n",
    "    nonbots['screen_name_binary'] = (nonbots.screen_name.str.contains(\"bot\", case=False)==False)\n",
    "    nonbots['description_binary'] = (nonbots.description.str.contains(\"bot\", case=False)==False)\n",
    "    nonbots['location_binary'] = (nonbots.location.isnull()==False)\n",
    "    nonbots['verified_binary'] = (nonbots.verified==True)\n",
    "    return nonbots\n",
    "\n",
    "\n",
    "#Creating Bots identifying condition\n",
    "#bots[bots.listedcount>10000]\n",
    "condition = (bots.screen_name.str.contains(\"bot\", case=False)==True)|(bots.description.str.contains(\"bot\", case=False)==True)|(bots.location.isnull())|(bots.verified==False)\n",
    "bots = vectorize_bots(bots, condition)\n",
    "print(\"Bots shape: {0}\".format(bots.shape))\n",
    "\n",
    "#Creating NonBots identifying condition\n",
    "condition = (nonbots.screen_name.str.contains(\"bot\", case=False)==False)| (nonbots.description.str.contains(\"bot\", case=False)==False) |(nonbots.location.isnull()==False)|(nonbots.verified==True)\n",
    "nonbots = vectorize_nonbots(nonbots, condition)\n",
    "print(\"Nonbots shape: {0}\".format(nonbots.shape))"
   ]
  },
  {
   "cell_type": "code",
   "execution_count": 92,
   "metadata": {
    "collapsed": false
   },
   "outputs": [
    {
     "name": "stdout",
     "output_type": "stream",
     "text": [
      "DataFrames created.\n"
     ]
    }
   ],
   "source": [
    "#Joining Bots and NonBots dataframes\n",
    "df = pd.concat([bots, nonbots])\n",
    "print(\"DataFrames created.\")"
   ]
  },
  {
   "cell_type": "code",
   "execution_count": 93,
   "metadata": {
    "collapsed": false
   },
   "outputs": [
    {
     "name": "stdout",
     "output_type": "stream",
     "text": [
      "Randomly splitting the dataset into training and test, and training classifiers.\n",
      "\n"
     ]
    }
   ],
   "source": [
    "#Splitting data randombly into train_df and test_df\n",
    "from sklearn.model_selection import train_test_split\n",
    "train_df, test_df = train_test_split(df, test_size=0.2)\n",
    "print(\"Randomly splitting the dataset into training and test, and training classifiers.\\n\")"
   ]
  },
  {
   "cell_type": "markdown",
   "metadata": {},
   "source": [
    "### Using Decision Tree Classifier"
   ]
  },
  {
   "cell_type": "code",
   "execution_count": 94,
   "metadata": {
    "collapsed": false
   },
   "outputs": [
    {
     "name": "stdout",
     "output_type": "stream",
     "text": [
      "Decision Tree Classifier Accuracy: 0.9172259507829977\n"
     ]
    }
   ],
   "source": [
    "#Using Decision Tree Classifier\n",
    "from sklearn.tree import DecisionTreeClassifier\n",
    "from sklearn.metrics import accuracy_score\n",
    "\n",
    "clf = DecisionTreeClassifier(criterion='entropy')\n",
    "\n",
    "#80%\n",
    "X_train = train_df[['screen_name_binary', 'description_binary', 'location_binary', 'verified_binary']] #train_data\n",
    "y_train = train_df['bot'] #train_target\n",
    "\n",
    "#20%\n",
    "X_test = test_df[['screen_name_binary', 'description_binary', 'location_binary', 'verified_binary']] #test_Data\n",
    "y_test = test_df['bot'] #test_target\n",
    "\n",
    "#Training on decision tree classifier\n",
    "model = clf.fit(X_train, y_train)\n",
    "\n",
    "#Predicting on test data\n",
    "predicted = model.predict(X_test)\n",
    "\n",
    "#Checking accuracy\n",
    "print(\"Decision Tree Classifier Accuracy: {0}\".format(accuracy_score(y_test, predicted)))"
   ]
  },
  {
   "cell_type": "code",
   "execution_count": null,
   "metadata": {
    "collapsed": true
   },
   "outputs": [],
   "source": []
  }
 ],
 "metadata": {
  "kernelspec": {
   "display_name": "Python 3",
   "language": "python",
   "name": "python3"
  },
  "language_info": {
   "codemirror_mode": {
    "name": "ipython",
    "version": 3
   },
   "file_extension": ".py",
   "mimetype": "text/x-python",
   "name": "python",
   "nbconvert_exporter": "python",
   "pygments_lexer": "ipython3",
   "version": "3.6.0"
  }
 },
 "nbformat": 4,
 "nbformat_minor": 2
}
